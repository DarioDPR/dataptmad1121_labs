{
 "cells": [
  {
   "cell_type": "code",
   "execution_count": 1,
   "id": "e6468419",
   "metadata": {},
   "outputs": [
    {
     "name": "stdout",
     "output_type": "stream",
     "text": [
      "{0: 'A', 1: 'B', 2: 'C', 3: 'D'}\n"
     ]
    }
   ],
   "source": [
    "dicts = {}\n",
    "keys = range(4)\n",
    "values = [\"A\", \"B\", \"C\", \"D\"]\n",
    "for i in keys:\n",
    "   dicts[i] = values[i]\n",
    "print(dicts)"
   ]
  },
  {
   "cell_type": "code",
   "execution_count": null,
   "id": "e90ec8d0",
   "metadata": {},
   "outputs": [],
   "source": []
  }
 ],
 "metadata": {
  "kernelspec": {
   "display_name": "Python [conda env:ironhack]",
   "language": "python",
   "name": "conda-env-ironhack-py"
  },
  "language_info": {
   "codemirror_mode": {
    "name": "ipython",
    "version": 3
   },
   "file_extension": ".py",
   "mimetype": "text/x-python",
   "name": "python",
   "nbconvert_exporter": "python",
   "pygments_lexer": "ipython3",
   "version": "3.7.11"
  }
 },
 "nbformat": 4,
 "nbformat_minor": 5
}
