{
 "cells": [
  {
   "cell_type": "code",
   "execution_count": null,
   "id": "b2e8600a",
   "metadata": {},
   "outputs": [],
   "source": [
    "\n",
    "def pasar_input_a_numero(a):\n",
    "    if a== 'zero': \n",
    "        a= 0\n",
    "    elif a== 'one':\n",
    "        a= 1\n",
    "    elif a== 'two':\n",
    "        a=2\n",
    "    elif a== 'three':\n",
    "        a=3\n",
    "    elif a== 'four':\n",
    "        a= 4\n",
    "    elif a== 'five':\n",
    "        a= 5\n",
    "    return a\n",
    "\n",
    "a= pasar_input_a_numero(a)\n",
    "c= pasar_input_a_numero(c)\n",
    "\n",
    "if b== 'plus':\n",
    "    print(a+c)\n",
    "if b== 'minus':\n",
    "    print (a-c)\n",
    "end = time.time()\n",
    "print(end - start)"
   ]
  },
  {
   "cell_type": "code",
   "execution_count": null,
   "id": "b57cf152",
   "metadata": {},
   "outputs": [],
   "source": [
    "print('Welcome to this calculator!')\n",
    "print('It can add and subtract whole numbers from zero to five')\n",
    "a = input('Please choose your first number (zero to five): ')\n",
    "b = input('What do you want to do? plus or minus: ')\n",
    "c = input('Please choose your second number (zero to five): ')"
   ]
  },
  {
   "cell_type": "code",
   "execution_count": null,
   "id": "8e05eead",
   "metadata": {},
   "outputs": [],
   "source": []
  }
 ],
 "metadata": {
  "kernelspec": {
   "display_name": "Python [conda env:ironhack]",
   "language": "python",
   "name": "conda-env-ironhack-py"
  },
  "language_info": {
   "codemirror_mode": {
    "name": "ipython",
    "version": 3
   },
   "file_extension": ".py",
   "mimetype": "text/x-python",
   "name": "python",
   "nbconvert_exporter": "python",
   "pygments_lexer": "ipython3",
   "version": "3.7.11"
  }
 },
 "nbformat": 4,
 "nbformat_minor": 5
}
